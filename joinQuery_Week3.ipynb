{
 "cells": [
  {
   "cell_type": "code",
   "execution_count": 1,
   "id": "d0678f52",
   "metadata": {},
   "outputs": [],
   "source": [
    "import mysql.connector as connector"
   ]
  },
  {
   "cell_type": "code",
   "execution_count": 3,
   "id": "709ed014",
   "metadata": {},
   "outputs": [],
   "source": [
    "connection = connector.connect(user = \"root\", password = \"anumsajid@4321\")"
   ]
  },
  {
   "cell_type": "code",
   "execution_count": 24,
   "id": "c324c3d8",
   "metadata": {},
   "outputs": [],
   "source": [
    "connection = connector.connect(user = \"root\", password = \"anumsajid@4321\", db = \"littlelemondb\") "
   ]
  },
  {
   "cell_type": "code",
   "execution_count": 25,
   "id": "057d30c9",
   "metadata": {},
   "outputs": [],
   "source": [
    "cursor=connection.cursor()"
   ]
  },
  {
   "cell_type": "code",
   "execution_count": 26,
   "id": "4a449610",
   "metadata": {},
   "outputs": [],
   "source": [
    "show_tables_query = \"SHOW tables\" "
   ]
  },
  {
   "cell_type": "code",
   "execution_count": 27,
   "id": "50568a47",
   "metadata": {},
   "outputs": [],
   "source": [
    "cursor.execute(show_tables_query)"
   ]
  },
  {
   "cell_type": "code",
   "execution_count": 28,
   "id": "2eb9f275",
   "metadata": {},
   "outputs": [
    {
     "name": "stdout",
     "output_type": "stream",
     "text": [
      "booking\n",
      "contactdetails\n",
      "customer\n",
      "menu\n",
      "menucontent\n",
      "menuitems\n",
      "oderdeliverystatus\n",
      "order\n",
      "ordersview\n",
      "role\n",
      "staff\n"
     ]
    }
   ],
   "source": [
    "Tables = cursor.fetchall()\n",
    "for T in Tables:\n",
    "    print(T[0])"
   ]
  },
  {
   "cell_type": "code",
   "execution_count": 29,
   "id": "b49e93e4",
   "metadata": {},
   "outputs": [],
   "source": [
    "join_query = \"\"\"\n",
    "\n",
    "SELECT c.CustomerName AS Name, cd.Email AS Email, cd.PhoneNO AS PhoneNumber, cd.Address AS Address, cd.Country AS Country,\n",
    "       cd.City AS City, o.TotalCost AS Cost\n",
    "       FROM customer c\n",
    "       JOIN contactdetails cd ON  c.CustomerId=cd.CustomerId\n",
    "       JOIN littlelemondb.order o  ON o.CustomerId=cd.CustomerId\n",
    "       WHERE o.TotalCost > 60\n",
    "       ORDER BY o.TotalCost DESC;\n",
    "\n",
    "\"\"\"\n",
    "        \n"
   ]
  },
  {
   "cell_type": "code",
   "execution_count": 30,
   "id": "0e8f1201",
   "metadata": {},
   "outputs": [],
   "source": [
    "cursor.execute(join_query)"
   ]
  },
  {
   "cell_type": "code",
   "execution_count": 31,
   "id": "aa5f2939",
   "metadata": {},
   "outputs": [],
   "source": [
    "customers = cursor.fetchall()"
   ]
  },
  {
   "cell_type": "code",
   "execution_count": 34,
   "id": "a12f99cc",
   "metadata": {},
   "outputs": [
    {
     "name": "stdout",
     "output_type": "stream",
     "text": [
      "There are 2 customers who spent more than $60!\n",
      "These are the following Customers: \n",
      "Customer Name:Shayan\n",
      "Email:shayan@gmail.com\n",
      "Phone Number:03345663985\n",
      "Address:Wah\n",
      "Country:Pakistan\n",
      "City: Rawalpindi\n",
      "Expenditure:240\n",
      "\n",
      "\n",
      "Customer Name:Anum\n",
      "Email:anum@gmail.com\n",
      "Phone Number:03345663822\n",
      "Address:Wah\n",
      "Country:Pakistan\n",
      "City: Rawalpindi\n",
      "Expenditure:100\n",
      "\n",
      "\n"
     ]
    }
   ],
   "source": [
    "print(f'There are {len(customers)} customers who spent more than $60!')\n",
    "print('These are the following Customers: ')\n",
    "\n",
    "for C in customers:\n",
    "    print(f'Customer Name:{C[0]}')\n",
    "    print(f'Email:{C[1]}')\n",
    "    print(f'Phone Number:{C[2]}')\n",
    "    print(f'Address:{C[3]}')\n",
    "    print(f'Country:{C[4]}')\n",
    "    print(f'City: {C[5]}')\n",
    "    print(f'Expenditure:{C[6]}')\n",
    "    print(f'\\n')"
   ]
  },
  {
   "cell_type": "code",
   "execution_count": null,
   "id": "9a355dc5",
   "metadata": {},
   "outputs": [],
   "source": []
  }
 ],
 "metadata": {
  "kernelspec": {
   "display_name": "Python 3 (ipykernel)",
   "language": "python",
   "name": "python3"
  },
  "language_info": {
   "codemirror_mode": {
    "name": "ipython",
    "version": 3
   },
   "file_extension": ".py",
   "mimetype": "text/x-python",
   "name": "python",
   "nbconvert_exporter": "python",
   "pygments_lexer": "ipython3",
   "version": "3.11.3"
  }
 },
 "nbformat": 4,
 "nbformat_minor": 5
}
